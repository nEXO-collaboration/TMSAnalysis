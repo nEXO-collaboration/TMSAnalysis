{
 "cells": [
  {
   "cell_type": "markdown",
   "metadata": {},
   "source": [
    "This Notebook shows the example usage of estimating the electron lifetime of a purification dataset using the LifetimeEstimation class. It starts with the loading of reduced data from a run, then it illustrates the steps needed to be taken by the user to use the function to their advantage. In summary, the user must apply quality cuts to the data that make the alpha band visible, then pass these cuts along with a reasonable guess of the lifetime and intercept of the alpha band energy vs drift time into the class, wherein it estimates the lifetime."
   ]
  },
  {
   "cell_type": "markdown",
   "metadata": {},
   "source": [
    "Start with importing necessary modules and setting up plot parameters"
   ]
  },
  {
   "cell_type": "code",
   "execution_count": 8,
   "metadata": {},
   "outputs": [
    {
     "ename": "ModuleNotFoundError",
     "evalue": "No module named 'StanfordTPCAnalysis'",
     "output_type": "error",
     "traceback": [
      "\u001b[0;31m---------------------------------------------------------------------------\u001b[0m",
      "\u001b[0;31mModuleNotFoundError\u001b[0m                       Traceback (most recent call last)",
      "\u001b[0;32m<ipython-input-8-2ba156d7cf37>\u001b[0m in \u001b[0;36m<module>\u001b[0;34m\u001b[0m\n\u001b[1;32m      3\u001b[0m \u001b[0;32mimport\u001b[0m \u001b[0mnumpy\u001b[0m \u001b[0;32mas\u001b[0m \u001b[0mnp\u001b[0m\u001b[0;34m\u001b[0m\u001b[0;34m\u001b[0m\u001b[0m\n\u001b[1;32m      4\u001b[0m \u001b[0;32mimport\u001b[0m \u001b[0mmatplotlib\u001b[0m\u001b[0;34m.\u001b[0m\u001b[0mpyplot\u001b[0m \u001b[0;32mas\u001b[0m \u001b[0mplt\u001b[0m\u001b[0;34m\u001b[0m\u001b[0;34m\u001b[0m\u001b[0m\n\u001b[0;32m----> 5\u001b[0;31m \u001b[0;32mfrom\u001b[0m \u001b[0mStanfordTPCAnalysis\u001b[0m\u001b[0;34m.\u001b[0m\u001b[0mStruckAnalysisConfiguration\u001b[0m \u001b[0;32mimport\u001b[0m \u001b[0mStruckAnalysisConfiguration\u001b[0m\u001b[0;34m\u001b[0m\u001b[0;34m\u001b[0m\u001b[0m\n\u001b[0m\u001b[1;32m      6\u001b[0m \u001b[0;32mimport\u001b[0m \u001b[0mtime\u001b[0m\u001b[0;34m\u001b[0m\u001b[0;34m\u001b[0m\u001b[0m\n\u001b[1;32m      7\u001b[0m \u001b[0;32mimport\u001b[0m \u001b[0mpickle\u001b[0m\u001b[0;34m\u001b[0m\u001b[0;34m\u001b[0m\u001b[0m\n",
      "\u001b[0;31mModuleNotFoundError\u001b[0m: No module named 'StanfordTPCAnalysis'"
     ]
    }
   ],
   "source": [
    "import sys\n",
    "import cycler\n",
    "import numpy as np\n",
    "import matplotlib.pyplot as plt\n",
    "from StanfordTPCAnalysis.StruckAnalysisConfiguration import StruckAnalysisConfiguration\n",
    "import time\n",
    "import pickle\n",
    "from StanfordTPCAnalysis.LifetimeEstimation import LifetimeEstimation as LE\n",
    "\n",
    "# Augment the path environment variable\n",
    "sys.path.insert(0,'../..')\n",
    "\n",
    "# Set up Plot Stuff\n",
    "plt.rcParams['axes.prop_cycle'] = cycler.cycler(color='bgrmyk')\n",
    "prop_cycle = plt.rcParams['axes.prop_cycle']\n",
    "colors = prop_cycle.by_key()['color']\n",
    "\n",
    "plt.rcParams['figure.figsize'] = [10, 8]\n",
    "plt.rcParams['font.size'] = 12"
   ]
  },
  {
   "cell_type": "markdown",
   "metadata": {},
   "source": [
    "Load in an example set; DS05 reduced v9 from Run 34 contains one of the least accurate fits of the datasets on which this class was tested"
   ]
  },
  {
   "cell_type": "code",
   "execution_count": null,
   "metadata": {},
   "outputs": [],
   "source": [
    "# Run 34 DS05 reduced_v9\n",
    "path_to_reduced_data = '/p/lustre2/nexouser/hardy27/StanfordTPCData/purification_data/'\n",
    "run_num = 'Run34'\n",
    "this_dataset = 'DS05'  \n",
    "reduced_num = '/reduced_v9/' # reduced_v4 for DS07\n",
    "fname = path_to_reduced_data + run_num + '/' + this_dataset + reduced_num + 'reduced_added.p'  \n",
    "\n",
    "#all the run configuration paramenters are stored in these three files\n",
    "config_path = '/config/Run34_v2/'\n",
    "run_parameters_file = path_to_reduced_data + run_num + '/' + this_dataset + config_path + 'Run_Parameters.csv'\n",
    "calibrations_file = path_to_reduced_data + run_num + '/' + this_dataset + config_path + 'Calibrations_Xe.csv'\n",
    "channel_map_file = path_to_reduced_data + run_num + '/' + this_dataset + config_path + 'Channel_Map.csv'\n",
    "\n",
    "#analysis_config object loads all these paramenters\n",
    "analysis_config = StruckAnalysisConfiguration.StruckAnalysisConfiguration()\n",
    "\n",
    "analysis_config.GetRunParametersFromFile( run_parameters_file, sheet = this_dataset )\n",
    "analysis_config.GetChannelMapFromFile( channel_map_file, sheet = this_dataset )\n",
    "\n",
    "with open(fname,'rb') as input_file:\n",
    "    data_df = pickle.load(input_file)"
   ]
  },
  {
   "cell_type": "markdown",
   "metadata": {},
   "source": [
    "Plot the uncut data first"
   ]
  },
  {
   "cell_type": "code",
   "execution_count": null,
   "metadata": {},
   "outputs": [],
   "source": [
    "# Tile, Drift Time Data\n",
    "charge_energy = data_df['TotalTileEnergy']\n",
    "sipm_energy = data_df['TotalSiPMEnergy']\n",
    "time_of_max_channel = data_df['TimeOfMaxChannel']\n",
    "drift_time = (time_of_max_channel - analysis_config.run_parameters['Pretrigger Length [samples]']) \\\n",
    "               * analysis_config.run_parameters['Sampling Period [ns]'] / 1000.\n",
    "\n",
    "# Plot uncut Tile Energy, SiPM Energy vs. Drift Time\n",
    "plt.figure(0)\n",
    "plt.plot(drift_time,charge_energy,'o',color=(0.,0.,1.,0.5),markersize=5.,\\\n",
    "         markeredgecolor=(0.,0.,0.,0.))\n",
    "plt.xlabel(\"Drift time (µs)\")\n",
    "plt.ylabel(\"Charge Tile Energy (ADC Counts)\")\n",
    "plt.title(\"Tile Energy vs. Drift Time, \" + run_num + \", \" + this_dataset)\n",
    "\n",
    "plt.figure(1)\n",
    "plt.plot(drift_time,sipm_energy,'o',color=(0.,0.,1.,0.5),markersize=5.,\\\n",
    "         markeredgecolor=(0.,0.,0.,0.))\n",
    "plt.xlabel(\"Drift time (µs)\")\n",
    "plt.ylabel(\"SiPM Energy (ADC Counts)\")\n",
    "plt.title(\"SiPM Energy vs. Drift Time, \" + run_num + \", \" + this_dataset)"
   ]
  },
  {
   "cell_type": "markdown",
   "metadata": {},
   "source": [
    "Then apply quality cuts until the alpha band is clear"
   ]
  },
  {
   "cell_type": "code",
   "execution_count": null,
   "metadata": {},
   "outputs": [],
   "source": [
    "# Preliminary Quality Cuts\n",
    "start_drift = 10 # µs \n",
    "end_drift = 45 # µs \n",
    "drift_interval = 5 # µs \n",
    "sipm_lower_bound = 20000 # ADC Counts\n",
    "sipm_upper_bound = 1000000 # ADC Counts\n",
    "charge_lower_bound = 250  # ADC Counts \n",
    "charge_upper_bound = 750  # ADC Counts \n",
    "num_tile_channels_hit = 3 # Channels"
   ]
  },
  {
   "cell_type": "markdown",
   "metadata": {},
   "source": [
    "Visualize the data until the alpha band is clear"
   ]
  },
  {
   "cell_type": "code",
   "execution_count": null,
   "metadata": {},
   "outputs": [],
   "source": [
    "# Apply Cuts to Data to Visualize the Alpha Band; from this, guess the lifetime and intercept\n",
    "mask = (data_df['TotalTileEnergy']>charge_lower_bound) & (data_df['TotalTileEnergy']<charge_upper_bound) \\\n",
    "        & (data_df['TotalSiPMEnergy']>sipm_lower_bound) & (data_df['TotalSiPMEnergy']<sipm_upper_bound) \\\n",
    "        & (data_df['NumTileChannelsHit'] < num_tile_channels_hit) & (data_df['IsFull3D'])\n",
    "\n",
    "plt.figure(0)\n",
    "plt.plot(drift_time[mask],charge_energy[mask],'o',color=(0.,0.,1.,0.5),markersize=5.,\\\n",
    "         markeredgecolor=(0.,0.,0.,0.))\n",
    "plt.xlabel(\"Drift time (µs)\")\n",
    "plt.ylabel(\"Charge Tile Energy (ADC Counts)\")\n",
    "plt.title(\"Tile Energy vs. Drift Time, \" + run_num + \", \" + this_dataset)\n",
    "\n",
    "plt.figure(1)\n",
    "plt.plot(drift_time[mask],sipm_energy[mask],'o',color=(0.,0.,1.,0.5),markersize=5.,\\\n",
    "         markeredgecolor=(0.,0.,0.,0.))\n",
    "plt.xlabel(\"Drift time (µs)\")\n",
    "plt.ylabel(\"SiPM Energy (ADC Counts)\")\n",
    "plt.title(\"SiPM Energy vs. Drift Time, \" + run_num + \", \" + this_dataset)"
   ]
  },
  {
   "cell_type": "markdown",
   "metadata": {},
   "source": [
    "Make a guess of the lifetime and intercept"
   ]
  },
  {
   "cell_type": "code",
   "execution_count": null,
   "metadata": {},
   "outputs": [],
   "source": [
    "intercept_guess = 650 # ADC Counts\n",
    "lifetime_guess = 110 # µs "
   ]
  },
  {
   "cell_type": "markdown",
   "metadata": {},
   "source": [
    "Pass these guesses and your quality cuts that made the alpha band clear into the class function for a lifetime estimate"
   ]
  },
  {
   "cell_type": "code",
   "execution_count": null,
   "metadata": {},
   "outputs": [],
   "source": [
    "# Estimate the Lifetime\n",
    "lifetime, sigma_lifetime, intercept, sigma_intercept, r_squared,\\\n",
    "    drift_slices, centroids, centroids_stds = LE.binnedElectronLifetimeFit(intercept_guess,\\\n",
    "                                                                           lifetime_guess,start_drift,end_drift,\\\n",
    "                                                                           data_df, analysis_config,sipm_lower_bound,\\\n",
    "                                                                           sipm_upper_bound,charge_lower_bound,\\\n",
    "                                                                           charge_upper_bound,run_num,this_dataset,\\\n",
    "                                                                           plotFlag=True,verbose=True)\n",
    "\n",
    "# Visualize Fit on Top of Original Cut Data:\n",
    "# Apply mask of prelimiary quality cuts\n",
    "mask = (data_df['TotalTileEnergy']>charge_lower_bound) & (data_df['TotalTileEnergy']<charge_upper_bound) \\\n",
    "        & (data_df['TotalSiPMEnergy']>sipm_lower_bound) & (data_df['TotalSiPMEnergy']<sipm_upper_bound) \\\n",
    "        & (data_df['NumTileChannelsHit'] < num_tile_channels_hit) & (data_df['IsFull3D'])\n",
    "\n",
    "# These coordinates are for a faint point that has labels of the lifetime and quality of fit\n",
    "mean_x = np.mean(drift_slices)    \n",
    "mean_y = np.mean(centroids)\n",
    "\n",
    "# Actually make the Plot\n",
    "plt.figure(95)\n",
    "plt.plot(drift_time[mask],charge_energy[mask],'o',color=(0.,0.,1.,0.5),markersize=5.,\\\n",
    "         markeredgecolor=(0.,0.,0.,0.),label='Data')\n",
    "plt.errorbar(drift_slices,centroids,yerr=centroids_stds,fmt='o',color='black',markersize=5.,\\\n",
    "         markeredgecolor=(0.,0.,0.,0.),label='Alpha Band Fit Centroids (Bins are Left Edges)')\n",
    "plt.plot(drift_slices,intercept*np.exp(-drift_slices/lifetime),'-',\\\n",
    "         color=(0.,0.,0.,1),linewidth=1.5,markeredgecolor=(0.,0.,0.,0.),\\\n",
    "         label=f'Fit: y = (${intercept:.2f}  \\u00B1  ${sigma_intercept:.2f})*exp(-x/(${lifetime:.2f}  \\u00B1  ${sigma_lifetime:.2f}))')\n",
    "plt.plot(mean_x,mean_y,'o',color=(0.,0.,0.,0.01),markersize=0.01,markeredgecolor=(0.,0.,0.,0.),\\\n",
    "         label=f'Electron Lifetime: ${lifetime:.2f}  \\u00B1  ${sigma_lifetime:.2f} µs')\n",
    "plt.plot(mean_x,mean_y,'o',color=(0.,0.,0.,0.01),markersize=0.01,markeredgecolor=(0.,0.,0.,0.),\\\n",
    "         label=f'R^2 of Log Fit: {r_squared:.4f}')\n",
    "plt.xlim([0,np.amax(drift_time[mask])])\n",
    "plt.ylim([0,1.05*np.amax(charge_energy[mask])])\n",
    "plt.xlabel(\"Drift time (µs)\")\n",
    "plt.ylabel(\"Charge Tile Energy (ADC Counts)\")\n",
    "plt.title(\"Electron Lifetime, \" + run_num + \", \"+this_dataset+\" (\"+str(np.size(centroids))+\" Fit Points)\")\n",
    "plt.legend(bbox_to_anchor=(1.1,1.0))"
   ]
  },
  {
   "cell_type": "markdown",
   "metadata": {},
   "source": [
    "Note that there are some improvements that should be made on this class; it has been committed in its working stage. Please see the class notes for the suggestions for improvement."
   ]
  }
 ],
 "metadata": {
  "kernelspec": {
   "display_name": "Maroun Kernel",
   "language": "python",
   "name": "marounkernel"
  },
  "language_info": {
   "codemirror_mode": {
    "name": "ipython",
    "version": 3
   },
   "file_extension": ".py",
   "mimetype": "text/x-python",
   "name": "python",
   "nbconvert_exporter": "python",
   "pygments_lexer": "ipython3",
   "version": "3.8.2"
  }
 },
 "nbformat": 4,
 "nbformat_minor": 4
}
