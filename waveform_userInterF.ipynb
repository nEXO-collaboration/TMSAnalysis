{
 "cells": [
  {
   "cell_type": "markdown",
   "metadata": {},
   "source": [
    "# Waveform user interface notebook\n",
    "---\n",
    "Click the Kernel tab above to start the notebook:\n",
    "\n",
    "    Kernel --> Restart & Run All\n",
    "\n",
    "Choose the raw data file you want to look at, as well as the waveform."
   ]
  },
  {
   "cell_type": "code",
   "execution_count": 1,
   "metadata": {},
   "outputs": [
    {
     "data": {
      "text/html": [
       "<style>\n",
       "    .widget-label { min-width: 30ex !important; }\n",
       "    .widget { min-width: 40ex !important; }\n",
       "</style>"
      ],
      "text/plain": [
       "<IPython.core.display.HTML object>"
      ]
     },
     "metadata": {},
     "output_type": "display_data"
    }
   ],
   "source": [
    "from scipy.ndimage import gaussian_filter\n",
    "from scipy.signal import butter, filtfilt, sosfilt\n",
    "import matplotlib.pyplot as plt\n",
    "from matplotlib import cm\n",
    "import numpy as np\n",
    "import uproot\n",
    "import glob\n",
    "import os\n",
    "from collections import OrderedDict\n",
    "import traitlets\n",
    "import ipywidgets as ipywid\n",
    "from ipywidgets import interact, widgets, Select, Layout, Button, interactive_output, HBox, VBox\n",
    "\n",
    "from IPython.display import HTML, display, Javascript\n",
    "\n",
    "display(HTML('''<style>\n",
    "    .widget-label { min-width: 30ex !important; }\n",
    "    .widget { min-width: 40ex !important; }\n",
    "</style>'''))\n",
    "from platform import python_version\n"
   ]
  },
  {
   "cell_type": "markdown",
   "metadata": {},
   "source": [
    "Necessary libraries and packages imported."
   ]
  },
  {
   "cell_type": "code",
   "execution_count": 2,
   "metadata": {},
   "outputs": [],
   "source": [
    "# main directory for data:\n",
    "datahome = \"/p/lustre1/nexouser/data/StanfordData/\"\n",
    "\n",
    "# go through run numbers:\n",
    "def get_run_list(person):\n",
    "    direct = datahome + person\n",
    "    if os.path.isdir(direct):\n",
    "        new_list = os.listdir(direct)\n",
    "    else:\n",
    "        print(\"Warning \" + direct + \" does not exist\")\n",
    "    new_list.sort()\n",
    "    return new_list\n",
    "\n",
    "def upgrade_run_widget(*args):\n",
    "    run_widget.options = get_run_list(person_widget.value)\n",
    "    \n",
    "def get_runtype_list(person, run):\n",
    "    direct = datahome + person + \"/\" + run + \"/\"\n",
    "    if os.path.isdir(direct):\n",
    "        new_list = os.listdir(direct)\n",
    "    else:\n",
    "        print(\"Warning \" + direct + \" does not exist\")\n",
    "    new_list.sort()\n",
    "    return new_list\n",
    "    \n",
    "def upgrade_runtype_widget(*args):\n",
    "    runtype_widget.options = get_runtype_list(person_widget.value, run_widget.value)\n",
    "    \n",
    "def get_file_list(person, run, runtype):\n",
    "    direct = datahome + person + \"/\" + run + \"/\" + runtype + \"/raw_data/\"\n",
    "    if os.path.isdir(direct):\n",
    "        new_list = os.listdir(direct)\n",
    "    else:\n",
    "        print(\"Warning \" + direct + \" does not exist\")\n",
    "        new_list = []\n",
    "    new_list = [i for i in new_list if \"root\" in i]\n",
    "    new_list.sort()\n",
    "    return new_list\n",
    "\n",
    "def upgrade_file_widget(*args):\n",
    "    file_widget.options = get_file_list(person_widget.value, run_widget.value, runtype_widget.value)\n",
    "    \n",
    "person_options = os.listdir(datahome)\n",
    "person = 'jacopo'\n",
    "person_options.sort()\n",
    "run_options = os.listdir(datahome+person)\n",
    "# remove non directories \n",
    "run_options = [s for s in run_options if \"py\" not in s]\n",
    "run_options  = [s for s in run_options if \"PulserTest\" not in s]\n",
    "default_file = \"tier1_SIS3316Raw_20221006230202DS06_Run38_SiPM30p0_hv840V_1-ngm.root\"\n",
    "\n",
    "person_widget = Select(options=person_options, value=\"jacopo\")\n",
    "run_widget = Select(options=get_run_list(\"jacopo\"), value=\"38th\", continuous_update=False)\n",
    "runtype_widget = Select(options=get_runtype_list(\"jacopo\", \"38th\"), value=\"DS06_Xe127inj\", continuous_update=True)\n",
    "file_item_layout = Layout(width='auto')\n",
    "file_widget = Select(options=get_file_list(\"jacopo\", \"38th\", \"DS06_Xe127inj\"), value=default_file, continuous_update=True, layout=file_item_layout)\n",
    "\n",
    "\n",
    "person_widget.observe(upgrade_run_widget, 'value')\n",
    "run_widget.observe(upgrade_runtype_widget, 'value')\n",
    "runtype_widget.observe(upgrade_file_widget, 'value')\n",
    "file_widget.observe(upgrade_file_widget)"
   ]
  },
  {
   "cell_type": "code",
   "execution_count": 3,
   "metadata": {},
   "outputs": [
    {
     "data": {
      "application/vnd.jupyter.widget-view+json": {
       "model_id": "2e956830ee4a42328a5d54324d99f95e",
       "version_major": 2,
       "version_minor": 0
      },
      "text/plain": [
       "Select(index=1, options=('angelico', 'jacopo', 'vidal4'), value='jacopo')"
      ]
     },
     "metadata": {},
     "output_type": "display_data"
    },
    {
     "data": {
      "application/vnd.jupyter.widget-view+json": {
       "model_id": "42fd29a626774486b1bb83a5d99023db",
       "version_major": 2,
       "version_minor": 0
      },
      "text/plain": [
       "Select(options=('38th', 'Run37'), value='38th')"
      ]
     },
     "metadata": {},
     "output_type": "display_data"
    },
    {
     "data": {
      "application/vnd.jupyter.widget-view+json": {
       "model_id": "4b0f734722d44ea98fc39e0caf285f33",
       "version_major": 2,
       "version_minor": 0
      },
      "text/plain": [
       "Select(index=6, options=('DS00', 'DS01_3p5kg', 'DS02_6p0kg', 'DS03_7p8kg', 'DS04_prerecirc_increase', 'DS05_hi…"
      ]
     },
     "metadata": {},
     "output_type": "display_data"
    },
    {
     "data": {
      "application/vnd.jupyter.widget-view+json": {
       "model_id": "24932cfb1daf495d97c1f7c2d3b9e4ad",
       "version_major": 2,
       "version_minor": 0
      },
      "text/plain": [
       "Select(index=187, layout=Layout(width='auto'), options=('tier1_SIS3316Raw_20221006222639DS06_Run38_SiPM30p0_hv…"
      ]
     },
     "metadata": {},
     "output_type": "display_data"
    }
   ],
   "source": [
    "display(person_widget)\n",
    "display(run_widget)\n",
    "display(runtype_widget)\n",
    "display(file_widget)"
   ]
  },
  {
   "cell_type": "code",
   "execution_count": 8,
   "metadata": {},
   "outputs": [
    {
     "data": {
      "application/javascript": [
       "IPython.notebook.execute_cells_below()"
      ],
      "text/plain": [
       "<IPython.core.display.Javascript object>"
      ]
     },
     "metadata": {},
     "output_type": "display_data"
    },
    {
     "data": {
      "application/vnd.jupyter.widget-view+json": {
       "model_id": "b955b6d096874f679813369cddb4b7a3",
       "version_major": 2,
       "version_minor": 0
      },
      "text/plain": [
       "Button(description='Load chosen file', style=ButtonStyle())"
      ]
     },
     "metadata": {},
     "output_type": "display_data"
    }
   ],
   "source": [
    "# have to have that function otherwise the object type is none and is not callable and so error.\n",
    "def run(ev):\n",
    "    display(Javascript('IPython.notebook.execute_cells_below()'))\n",
    "    \n",
    "button_file_in = widgets.Button(description='Load chosen file')\n",
    "button_file_in.on_click(run)\n",
    "display(button_file_in)"
   ]
  },
  {
   "cell_type": "code",
   "execution_count": 9,
   "metadata": {},
   "outputs": [
    {
     "name": "stdout",
     "output_type": "stream",
     "text": [
      "Loaded file:\n"
     ]
    },
    {
     "data": {
      "application/vnd.jupyter.widget-view+json": {
       "model_id": "e6b9ef204ffa47b699085dcb35621859",
       "version_major": 2,
       "version_minor": 0
      },
      "text/plain": [
       "Text(value='/p/lustre1/nexouser/data/StanfordData/jacopo/38th/DS17_After_Fast_Recirc/raw_data/tier1_SIS3316Raw…"
      ]
     },
     "metadata": {},
     "output_type": "display_data"
    }
   ],
   "source": [
    "file_widget.observe(upgrade_file_widget)\n",
    "datapath = datahome + person_widget.value + \"/\" + run_widget.value + \"/\" + runtype_widget.value + \"/raw_data/\" + file_widget.value\n",
    "\n",
    "print('Loaded file:')\n",
    "datapath_widget = widgets.Text(description='', value=datapath, layout={'width': '750px'})\n",
    "display(datapath_widget)\n",
    "#print(\"loaded file:\", datapath_widget.value)\n",
    "flist = datapath_widget.value\n",
    "\n",
    "if type(flist) == list:\n",
    "    i_file = 1\n",
    "    l_file = 3\n",
    "    wfm = uproot.concatenate([select_files+':HitTree/HitTree/_waveform' for select_files in flist[i_file:l_file]])['_waveform']\n",
    "    slot = uproot.concatenate([select_files+':HitTree/HitTree/_slot' for select_files in flist[i_file:l_file]])['_slot']\n",
    "    channel = uproot.concatenate([select_files+':HitTree/HitTree/_channel' for select_files in flist[i_file:l_file]])['_channel']\n",
    "    timestamp = uproot.concatenate([select_files+':HitTree/HitTree/_rawclock' for select_files in flist[i_file:l_file]])['_rawclock']\n",
    "else:\n",
    "    wfm = uproot.open(flist+':HitTree/HitTree/_waveform').array()\n",
    "    slot = uproot.open(flist+':HitTree/HitTree/_slot').array()\n",
    "    channel = uproot.open(flist+':HitTree/HitTree/_channel').array()\n",
    "    timestamp = uproot.open(flist+':HitTree/HitTree/_rawclock').array()"
   ]
  },
  {
   "cell_type": "markdown",
   "metadata": {},
   "source": [
    "The first two lines represent general quantities. Choose the event number you want to look at and the sampling frequency. Concerning the number of boards and number of channel per board, the default for Stanford are the numbers pre-entered.\n",
    "Following the first two lines, column 1 controls SiPM quantities and options, and column 2 controls the charge quantities and options."
   ]
  },
  {
   "cell_type": "code",
   "execution_count": 10,
   "metadata": {
    "scrolled": false
   },
   "outputs": [
    {
     "data": {
      "application/vnd.jupyter.widget-view+json": {
       "model_id": "72cda9c66cce4ea498f0e6bc17a8e9c1",
       "version_major": 2,
       "version_minor": 0
      },
      "text/plain": [
       "HBox(children=(VBox(children=(BoundedIntText(value=0, description='Event number:'), IntText(value=25000000, de…"
      ]
     },
     "metadata": {},
     "output_type": "display_data"
    },
    {
     "data": {
      "application/vnd.jupyter.widget-view+json": {
       "model_id": "e832f3f7731f4e95a2c4c0858f052191",
       "version_major": 2,
       "version_minor": 0
      },
      "text/plain": [
       "Output()"
      ]
     },
     "metadata": {},
     "output_type": "display_data"
    }
   ],
   "source": [
    "import awkward as ak\n",
    "\n",
    "def DecayTimeCorrection(input_wfm, decay_time_ns, sampling_period_ns):\n",
    "    # code from Waveform.py, should import from there\n",
    "    # Here I'll assume the decay time is in units of mircoseconds\n",
    "    # and the sampling period is in units of ns\n",
    "    input_wfm = ak.to_numpy(input_wfm)\n",
    "    new_wfm = np.copy( input_wfm )\n",
    "    decay_time_us = decay_time_ns*1e-3\n",
    "    for i in range(len(input_wfm)-1):\n",
    "        new_wfm[i+1] = new_wfm[i] - np.exp( - (sampling_period_ns/1.e3) / decay_time_us ) * input_wfm[i] + input_wfm[i+1]\n",
    "    return new_wfm\n",
    "\n",
    "def lowpass_filter(data, cutoff, sampling_freq, order, nyq):\n",
    "    norm_cutoff = cutoff/nyq\n",
    "    # filter coeff.\n",
    "    a, b = butter(order, norm_cutoff, btype='low', analog=False)\n",
    "    y = filtfilt(a, b, data)\n",
    "    return y\n",
    "\n",
    "def Power_spectral_density(t, f):\n",
    "    # look at spectral density power:\n",
    "    n = len(t)\n",
    "    f_hat = np.fft.fft(f, n)\n",
    "    PSD = f_hat * np.conj(f_hat)/n\n",
    "    dt= 1/(sampling_freq)  # samples/s\n",
    "    freq = (1/(dt*n))*np.arange(n)\n",
    "    R = np.arange(1, np.floor(n/2), dtype='int')\n",
    "    return R, freq, PSD\n",
    "\n",
    "def parameters(Check_SiPM, Event_number, sampl_freq, nb_boards, nb_ch_board, \n",
    "               waveform_nb, smoothing_sipm, Check_Charge, waveform_nb_charge, \n",
    "               Check_all_charge, Check_all_sipm, smoothing_charge, PSD_sipm, PSD_charge, \n",
    "               Check_baseline_sipm, Check_baseline_charge, Decay_sipm, Decay_charge, \n",
    "               Check_Gaussian_filter_sipm, Check_Gaussian_filter_charge, Check_Processed_pulse_charge):\n",
    "    \n",
    "    software_ch = np.add(slot*16,channel)\n",
    "    n_channels = nb_boards*nb_ch_board\n",
    "    event_nb = Event_number\n",
    "    j = event_nb*48\n",
    "    Decay_charge_mus = Decay_charge*1e-3\n",
    "    \n",
    "    # check if we want to look at SiPM pulses\n",
    "    if Check_SiPM==True:\n",
    "        list_channels = []\n",
    "        for j_i in range(j, j+n_channels):\n",
    "            if software_ch[j_i]<16:\n",
    "                list_channels.append(j_i)\n",
    "\n",
    "        plt.rc('axes', labelsize=12)\n",
    "        plt.rcParams['font.size'] = 10\n",
    "        array_channel = np.array(list_channels).reshape(4, 4)\n",
    "        \n",
    "        if Check_all_sipm == True:\n",
    "            fig, ax = plt.subplots(4, 4, figsize=[17, 18])\n",
    "            for l in range(0, 4):\n",
    "                for c in range(0, 4):\n",
    "                    ch = array_channel[l][c]\n",
    "                    ax[l, c].plot(np.arange(len(wfm[ch]))/sampling_freq*1e6,wfm[ch]-np.mean(wfm[ch,:200])+400*software_ch[ch], label=str(l*4+c))\n",
    "                    ax[l, c].set_xlabel('Time [$\\mu$s]')\n",
    "                    ax[l, c].legend()\n",
    "            fig.suptitle(\"SiPM pulses\", fontsize=20)\n",
    "            plt.show()\n",
    "        else:\n",
    "            for l in range(0, 4):\n",
    "                for c in range(0, 4):\n",
    "                    ch = array_channel[l][c]\n",
    "\n",
    "\n",
    "        if 0 <= waveform_nb and waveform_nb < 4:\n",
    "            c1 = 0\n",
    "            c2 = waveform_nb\n",
    "        elif 4 <= waveform_nb and waveform_nb < 8:\n",
    "            c1 = 1\n",
    "            c2 = waveform_nb-4\n",
    "        elif 8 <= waveform_nb and waveform_nb < 12:\n",
    "            c1 = 2\n",
    "            c2 = waveform_nb-8\n",
    "        elif 12 <= waveform_nb and waveform_nb < 16:\n",
    "            c1 = 3\n",
    "            c2 = waveform_nb-12\n",
    "        elif waveform_nb < 0 or waveform_nb >17:\n",
    "            print(\"Invalid pulse number\")\n",
    "\n",
    "        \n",
    "        plt.figure(figsize=(15, 6))\n",
    "        t = np.arange(len(wfm[array_channel[c1][c2]]))/sampling_freq*1e6\n",
    "        f = wfm[array_channel[c1][c2]]-np.mean(wfm[array_channel[c1][c2],:200])+400*software_ch[array_channel[c1][c2]]\n",
    "        \n",
    "        t_baseline = t[t<30]\n",
    "        index_end_BL = len(t_baseline)\n",
    "        f_baseline = np.full(index_end_BL, np.mean(f[:index_end_BL]))\n",
    "        \n",
    "        if Check_baseline_sipm == False:\n",
    "            plt.plot(t, f, label='Raw pulse')\n",
    "            nyq = 0.5*sampling_freq\n",
    "            if Check_Gaussian_filter_sipm==True:\n",
    "                f_filtered = gaussian_filter(f, smoothing_sipm/Decay_sipm)\n",
    "                plt.plot(t, f_filtered, label='Gaussian filter')\n",
    "            plt.plot(t_baseline, f_baseline, 'r', label='Baseline')\n",
    "            plt.grid()\n",
    "            plt.legend()\n",
    "            plt.title(\"Selected SiPM pulse\")\n",
    "            plt.xlabel(r\"Time [$\\mu$s]\")\n",
    "        else:\n",
    "            f_remove_baseline = np.full(len(t), np.mean(f[:index_end_BL]))\n",
    "            plt.plot(t, f-f_remove_baseline, label='Raw pulse')\n",
    "            nyq = 0.5*sampling_freq\n",
    "            if Check_Gaussian_filter_sipm==True:\n",
    "                f_filtered = gaussian_filter(f-f_remove_baseline, smoothing_sipm/Decay_sipm)\n",
    "                plt.plot(t, f_filtered, label='Gaussian filter')\n",
    "            plt.plot(t_baseline, f_baseline-f_baseline, 'r', label='Baseline')\n",
    "            plt.grid()\n",
    "            plt.legend()\n",
    "            plt.title(\"Selected SiPM pulse\")\n",
    "            plt.xlabel(r\"Time [$\\mu$s]\")\n",
    "        \n",
    "    \n",
    "        if PSD_sipm==True:\n",
    "            # look at spectral density power:\n",
    "            R, freq, PSD = Power_spectral_density(t, f)\n",
    "            plt.figure(figsize=(15, 6))\n",
    "            plt.plot(freq[R]*1e-6, PSD[R])\n",
    "            plt.xlabel(\"frequency [MHz]\")\n",
    "            plt.ylabel(r\"Spectral density power [$V^2$/Hz]\")\n",
    "            plt.xlim(0.2, 12.5)\n",
    "            plt.xscale(\"log\")\n",
    "            plt.show()\n",
    "    \n",
    "    # Check if we want to look at Charge pulses\n",
    "    if Check_Charge==True:\n",
    "        \n",
    "        list_channels = []\n",
    "        for j_i in range(j, j+n_channels):\n",
    "            if software_ch[j_i]>=16:\n",
    "                list_channels.append(j_i)\n",
    "            elif software_ch[j_i]==45:\n",
    "                continue\n",
    "\n",
    "        plt.rc('axes', labelsize=12)\n",
    "        plt.rcParams['font.size'] = 10\n",
    "        \n",
    "        array_channel = np.array(list_channels).reshape(8, 4)\n",
    "        if Check_all_charge == True:\n",
    "            fig, ax = plt.subplots(8, 4, figsize=[17, 37])\n",
    "            for l in range(0, 8):\n",
    "                for c in range(0, 4):\n",
    "                    ch = array_channel[l][c]\n",
    "                    ax[l, c].plot(np.arange(len(wfm[ch]))/sampling_freq*1e6,wfm[ch]-np.mean(wfm[ch,:200]), label=str(l*4+c))\n",
    "                    ax[l, c].set_xlabel('Time [$\\mu$s]')\n",
    "                    ax[l, c].legend()\n",
    "            plt.suptitle(\"Charge pulses\", fontsize=20)\n",
    "            plt.show()\n",
    "        else:\n",
    "            for l in range(0, 8):\n",
    "                for c in range(0, 4):\n",
    "                    ch = array_channel[l][c]\n",
    "        \n",
    "        if 0 <= waveform_nb_charge and waveform_nb_charge < 4:\n",
    "            c1 = 0\n",
    "            c2 = waveform_nb_charge\n",
    "        elif 4 <= waveform_nb_charge and waveform_nb_charge < 8:\n",
    "            c1 = 1\n",
    "            c2 = waveform_nb_charge-4\n",
    "        elif 8 <= waveform_nb_charge and waveform_nb_charge < 12:\n",
    "            c1 = 2\n",
    "            c2 = waveform_nb_charge-8\n",
    "        elif 12 <= waveform_nb_charge and waveform_nb_charge < 16:\n",
    "            c1 = 3\n",
    "            c2 = waveform_nb_charge-12\n",
    "        elif 16<= waveform_nb_charge and waveform_nb_charge < 20:\n",
    "            c1 = 4\n",
    "            c2 = waveform_nb_charge-16\n",
    "        elif 20 <= waveform_nb_charge and waveform_nb_charge < 24:\n",
    "            c1 = 5\n",
    "            c2 = waveform_nb_charge-20\n",
    "        elif 24 <= waveform_nb_charge and waveform_nb_charge < 28:\n",
    "            c1 = 6\n",
    "            c2 = waveform_nb_charge-24\n",
    "        elif 28 <= waveform_nb_charge and waveform_nb_charge < 32:\n",
    "            c1 = 7\n",
    "            c2 = waveform_nb_charge-28\n",
    "        elif waveform_nb_charge < 0 or waveform_nb_charge > 32:\n",
    "            print(\"Invalid pulse number\")\n",
    "            \n",
    "        \n",
    "        plt.figure(figsize=(15, 6))\n",
    "        t = np.arange(len(wfm[array_channel[c1][c2]]))/sampling_freq*1e6\n",
    "        f = wfm[array_channel[c1][c2]]-np.mean(wfm[array_channel[c1][c2],:200])+400*software_ch[array_channel[c1][c2]]\n",
    "        t_baseline = t[t<30]\n",
    "        index_end_BL = len(t_baseline)\n",
    "        f_baseline = np.full(index_end_BL, np.mean(f[:index_end_BL]))\n",
    "        f_remove_baseline = np.full(len(t), np.mean(f[:index_end_BL]))\n",
    "        \n",
    "        if Check_baseline_charge == False and Check_Processed_pulse_charge==False:\n",
    "            plt.plot(t, f, label='Raw pulse')\n",
    "            nyq = 0.5*sampling_freq\n",
    "            if Check_Gaussian_filter_charge==True:\n",
    "                f_filtered = gaussian_filter(f, smoothing_charge/Decay_charge)\n",
    "                plt.plot(t, f_filtered, label='Gaussian filter')\n",
    "            plt.plot(t_baseline, f_baseline, 'r', label='Baseline')\n",
    "            plt.grid()\n",
    "            plt.legend()\n",
    "            plt.title(\"Selected SiPM pulse\")\n",
    "            plt.xlabel(r\"Time [$\\mu$s]\")\n",
    "        elif Check_baseline_charge ==True and Check_Processed_pulse_charge==False:\n",
    "            plt.plot(t, f-f_remove_baseline, label='Raw pulse')\n",
    "            nyq = 0.5*sampling_freq\n",
    "            if Check_Gaussian_filter_charge==True:\n",
    "                f_filtered = gaussian_filter(f, smoothing_charge/Decay_charge)\n",
    "                plt.plot(t, f_filtered, label='Gaussian filter')\n",
    "            plt.plot(t_baseline, f_baseline-f_baseline, 'r', label='Baseline')\n",
    "            plt.grid()\n",
    "            plt.legend()\n",
    "            plt.title(\"Selected SiPM pulse\")\n",
    "            plt.xlabel(r\"Time [$\\mu$s]\")\n",
    "        elif Check_Processed_pulse_charge==True:\n",
    "            plt.plot(t, f-f_remove_baseline, label='Raw pulse')\n",
    "            plt.plot(t_baseline, f_baseline-f_baseline, 'r', label='Baseline')\n",
    "            sampl_period_ns = 1e9/sampl_freq\n",
    "            f_filtered = gaussian_filter(f-f_remove_baseline, smoothing_charge/sampl_period_ns)\n",
    "            #f_baseline_removed = f_filtered-np.full(len(t), np.mean(f[:index_end_BL]))\n",
    "            f_corrected = DecayTimeCorrection(f_filtered, Decay_charge, sampl_period_ns)\n",
    "            plt.plot(t, f_corrected,'k', label='Processed')\n",
    "            plt.grid()\n",
    "            plt.legend()\n",
    "            plt.title(\"Selected charge pulse\")\n",
    "            plt.xlabel(r\"Time [$\\mu$s]\")\n",
    "        \n",
    "        if PSD_charge==True:\n",
    "            # look at spectral density power:\n",
    "            R, freq, PSD = Power_spectral_density(t, f)\n",
    "            plt.figure(figsize=(15, 6))\n",
    "            plt.plot(freq[R]*1e-6, PSD[R])\n",
    "            plt.xlabel(\"frequency [MHz]\")\n",
    "            plt.ylabel(r\"Spectral density power [$V^2$/Hz]\")\n",
    "            plt.xlim(0.2, 12.5)\n",
    "            plt.xscale(\"log\")\n",
    "            plt.show()\n",
    "    \n",
    "    return \n",
    "\n",
    "# default run parameters\n",
    "sampling_freq = 25e6\n",
    "n_boards = 3\n",
    "n_ch_board = 16\n",
    "pulse_channel = 13\n",
    "gaussian_smooth_sipm = 80 # ns \n",
    "gaussian_smooth_charge = 500 # ns\n",
    "order_input = 2\n",
    "pulse_channel_charge = 15\n",
    "decay_time_sipm = 200 # ns\n",
    "decay_time_charge = 500e3 # ns\n",
    "\n",
    "CheckBox_SiPM = widgets.Checkbox(description=\"SiPM pulses?\", value=True, layout=widgets.Layout(width='100%'))\n",
    "IntText_Event_nb = widgets.BoundedIntText(description='Event number:', value=0, min=0)\n",
    "IntText_Sampl_freq = widgets.IntText(description=\"Sampling frequency (Hz):\", value=sampling_freq)\n",
    "IntText_Nb_boards = widgets.IntText(description=\"Number of boards:\", value=n_boards)\n",
    "IntText_Pulse_nb = widgets.IntText(description=\"Pulse number:\", value=pulse_channel)\n",
    "IntText_Nb_channel_board = widgets.IntText(description=\"Number of channel per board:\", value = n_ch_board)\n",
    "FloatText_Gaussian_smooth_sipm = widgets.FloatText(description=\"Gaussian smoothing (ns):\", value=gaussian_smooth_sipm)\n",
    "CheckBox_Charge = widgets.Checkbox(description=\"Charge pulses?\", value=False, layout=widgets.Layout(width='100%'))\n",
    "IntText_Pulse_nb_charge = widgets.IntText(description=\"Pulse number:\", value=pulse_channel_charge)\n",
    "CheckBox_all_charge_pulses = widgets.Checkbox(description=\"All charge pulses?\", value=True, layout=widgets.Layout(width='100%'))\n",
    "CheckBox_all_sipm_pulses = widgets.Checkbox(description=\"All SiPM pulses?\", value=True, layout=widgets.Layout(width='100%'))\n",
    "FloatText_Gaussian_smooth_charge = widgets.FloatText(description=\"Gaussian smoothing (ns):\", value=gaussian_smooth_charge)\n",
    "CheckBox_PSD_sipm = widgets.Checkbox(description=\"Power density spectrum?\", value=False, layout=widgets.Layout(width='100%'))\n",
    "CheckBox_PSD_charge = widgets.Checkbox(description=\"Power density spectrum?\", value=False, layout=widgets.Layout(width='100%'))\n",
    "CheckBox_Baseline_removed_sipm = widgets.Checkbox(description=\"Baseline removed (SiPM pulse)?\", value=False, layout=widgets.Layout(width='100%'))\n",
    "CheckBox_Baseline_removed_charge = widgets.Checkbox(description=\"Baseline removed (Charge pulse)\", value=False, layout=widgets.Layout(width='100%'))\n",
    "CheckBox_gaussian_filter_sipm = widgets.Checkbox(description=\"Gaussian filter for SiPM pulse?\", value=False, layout=widgets.Layout(width='100%'))\n",
    "CheckBox_gaussian_filter_charge = widgets.Checkbox(description=\"Gaussian filter for charge pulse?\", value=False, layout=widgets.Layout(width='100%'))\n",
    "FloatText_decaytime_sipm = widgets.FloatText(description=\"Decay time preamp SiPM (ns):\", value=decay_time_sipm)\n",
    "FloatText_decaytime_charge = widgets.FloatText(description=\"Decay time preamp charge (ns):\", value=decay_time_charge)\n",
    "CheckBox_Gaussian_filter_sipm = widgets.Checkbox(description=\"Gaussian filter?\", value=False, layout=widgets.Layout(width='100%'))\n",
    "CheckBox_Gaussian_filter_charge = widgets.Checkbox(description=\"Gaussian filter?\", value=False, layout=widgets.Layout(width='100%'))\n",
    "CheckBox_Processed_pulse_charge = widgets.Checkbox(description=\"Processed pulse?\", value=False, layout=widgets.Layout(width='100%'))\n",
    "\n",
    "output = interactive_output(parameters, {'Event_number': IntText_Event_nb, \n",
    "                                         'sampl_freq': IntText_Sampl_freq, \n",
    "                                         'nb_boards': IntText_Nb_boards, \n",
    "                                         'nb_ch_board': IntText_Nb_channel_board,\n",
    "                                         'Check_SiPM': CheckBox_SiPM, \n",
    "                                         'waveform_nb': IntText_Pulse_nb, \n",
    "                                         'smoothing_sipm': FloatText_Gaussian_smooth_sipm, \n",
    "                                         'Check_Charge': CheckBox_Charge,\n",
    "                                         'waveform_nb_charge': IntText_Pulse_nb_charge, \n",
    "                                         'Check_all_charge': CheckBox_all_charge_pulses, \n",
    "                                         'Check_all_sipm': CheckBox_all_sipm_pulses,\n",
    "                                         'smoothing_charge': FloatText_Gaussian_smooth_charge,\n",
    "                                         'PSD_sipm': CheckBox_PSD_sipm,\n",
    "                                         'PSD_charge': CheckBox_PSD_charge,\n",
    "                                         'Check_baseline_sipm': CheckBox_Baseline_removed_sipm,\n",
    "                                         'Check_baseline_charge': CheckBox_Baseline_removed_charge,\n",
    "                                         'Decay_sipm': FloatText_decaytime_sipm,\n",
    "                                         'Decay_charge': FloatText_decaytime_charge,\n",
    "                                         'Check_Gaussian_filter_sipm': CheckBox_Gaussian_filter_sipm, \n",
    "                                         'Check_Gaussian_filter_charge': CheckBox_Gaussian_filter_charge,\n",
    "                                         'Check_Processed_pulse_charge': CheckBox_Processed_pulse_charge})#,\n",
    "                                         #'select_filter': Select_filter_sipm})\n",
    "# column1:\n",
    "col1 = VBox([IntText_Event_nb, IntText_Sampl_freq, CheckBox_SiPM, CheckBox_all_sipm_pulses, \n",
    "             IntText_Pulse_nb, FloatText_decaytime_sipm, CheckBox_Gaussian_filter_sipm, \n",
    "             FloatText_Gaussian_smooth_sipm, CheckBox_Baseline_removed_sipm, CheckBox_PSD_sipm])\n",
    "\n",
    "col2 = VBox([IntText_Nb_boards, IntText_Nb_channel_board, CheckBox_Charge, CheckBox_all_charge_pulses, \n",
    "             IntText_Pulse_nb_charge, FloatText_decaytime_charge, CheckBox_Gaussian_filter_charge, \n",
    "             FloatText_Gaussian_smooth_charge, CheckBox_Baseline_removed_charge, CheckBox_Processed_pulse_charge,\n",
    "             CheckBox_PSD_charge])\n",
    "\n",
    "\n",
    "display(HBox([col1, col2]), output)\n",
    "\n",
    "\n",
    "\n",
    "\n"
   ]
  },
  {
   "cell_type": "code",
   "execution_count": 11,
   "metadata": {},
   "outputs": [
    {
     "data": {
      "text/html": [
       "<script>\n",
       "code_show=true; \n",
       "function code_toggle() {\n",
       " if (code_show){\n",
       " $('div.input').hide();\n",
       " } else {\n",
       " $('div.input').show();\n",
       " }\n",
       " code_show = !code_show\n",
       "} \n",
       "$( document ).ready(code_toggle);\n",
       "</script>\n",
       "The raw code for this notebook is hidden by default for readability purposes.\n",
       "If you would like to see the raw code, click <a href=\"javascript:code_toggle()\">here</a>."
      ],
      "text/plain": [
       "<IPython.core.display.HTML object>"
      ]
     },
     "execution_count": 11,
     "metadata": {},
     "output_type": "execute_result"
    }
   ],
   "source": [
    "HTML('''<script>\n",
    "code_show=true; \n",
    "function code_toggle() {\n",
    " if (code_show){\n",
    " $('div.input').hide();\n",
    " } else {\n",
    " $('div.input').show();\n",
    " }\n",
    " code_show = !code_show\n",
    "} \n",
    "$( document ).ready(code_toggle);\n",
    "</script>\n",
    "The raw code for this notebook is hidden by default for readability purposes.\n",
    "If you would like to see the raw code, click <a href=\"javascript:code_toggle()\">here</a>.''')"
   ]
  },
  {
   "cell_type": "code",
   "execution_count": null,
   "metadata": {},
   "outputs": [],
   "source": []
  }
 ],
 "metadata": {
  "kernelspec": {
   "display_name": "My awesome kernel",
   "language": "python",
   "name": "magic-name_kernel"
  },
  "language_info": {
   "codemirror_mode": {
    "name": "ipython",
    "version": 3
   },
   "file_extension": ".py",
   "mimetype": "text/x-python",
   "name": "python",
   "nbconvert_exporter": "python",
   "pygments_lexer": "ipython3",
   "version": "3.7.2"
  }
 },
 "nbformat": 4,
 "nbformat_minor": 4
}
